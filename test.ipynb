{
 "cells": [
  {
   "cell_type": "code",
   "execution_count": 25,
   "id": "2f04f1f5",
   "metadata": {},
   "outputs": [],
   "source": [
    "%run Data_Parser.ipynb"
   ]
  },
  {
   "cell_type": "markdown",
   "id": "fa43ba90",
   "metadata": {},
   "source": [
    "# Test_create_log_list \n",
    "This test code checks whether the output of create_log_list is a list and ensures that all elements within the list are strings. If the output satisfies these conditions, it will print \"Test passed: The output is a list of strings.\" Otherwise, an assertion error will be raised."
   ]
  },
  {
   "cell_type": "code",
   "execution_count": 26,
   "id": "e31326cf",
   "metadata": {},
   "outputs": [
    {
     "name": "stdout",
     "output_type": "stream",
     "text": [
      "Test passed: The output is a list of strings.\n"
     ]
    }
   ],
   "source": [
    "def test_create_log_list():\n",
    "    # Define the input text file\n",
    "    log_file = 'WCG100140020.txt'\n",
    "\n",
    "    # Call the function to create the log list\n",
    "    log_list = create_log_list(log_file)\n",
    "\n",
    "    # Check if the output is a list\n",
    "    assert isinstance(log_list, list)\n",
    "\n",
    "    # Check if all elements in the list are strings\n",
    "    assert all(isinstance(log, str) for log in log_list)\n",
    "\n",
    "    print(\"Test passed: The output is a list of strings.\")\n",
    "\n",
    "# Run the test\n",
    "test_create_log_list()"
   ]
  },
  {
   "cell_type": "markdown",
   "id": "da314325",
   "metadata": {},
   "source": [
    "With this updated code, if the output of create_log_list is not a list, or if any element within the list is not a string, the test will fail and raise an assertion error with the desired output message \"Test failed: The output is not a list of strings.\""
   ]
  },
  {
   "cell_type": "code",
   "execution_count": 24,
   "id": "fa3adab6",
   "metadata": {},
   "outputs": [
    {
     "ename": "AssertionError",
     "evalue": "Test failed: The output is not a list.",
     "output_type": "error",
     "traceback": [
      "\u001b[0;31m---------------------------------------------------------------------------\u001b[0m",
      "\u001b[0;31mAssertionError\u001b[0m                            Traceback (most recent call last)",
      "\u001b[0;32m/var/folders/h9/2bn5gc_x08l4z4jb9xxmln600000gn/T/ipykernel_99745/2120950135.py\u001b[0m in \u001b[0;36m<module>\u001b[0;34m\u001b[0m\n\u001b[1;32m     16\u001b[0m \u001b[0;34m\u001b[0m\u001b[0m\n\u001b[1;32m     17\u001b[0m \u001b[0;31m# Run the test\u001b[0m\u001b[0;34m\u001b[0m\u001b[0;34m\u001b[0m\u001b[0m\n\u001b[0;32m---> 18\u001b[0;31m \u001b[0mtest_create_log_list\u001b[0m\u001b[0;34m(\u001b[0m\u001b[0;34m)\u001b[0m\u001b[0;34m\u001b[0m\u001b[0;34m\u001b[0m\u001b[0m\n\u001b[0m",
      "\u001b[0;32m/var/folders/h9/2bn5gc_x08l4z4jb9xxmln600000gn/T/ipykernel_99745/2120950135.py\u001b[0m in \u001b[0;36mtest_create_log_list\u001b[0;34m()\u001b[0m\n\u001b[1;32m      7\u001b[0m     \u001b[0mlog_list\u001b[0m\u001b[0;34m=\u001b[0m\u001b[0mnp\u001b[0m\u001b[0;34m.\u001b[0m\u001b[0marray\u001b[0m\u001b[0;34m(\u001b[0m\u001b[0mlog_list\u001b[0m\u001b[0;34m)\u001b[0m\u001b[0;34m\u001b[0m\u001b[0;34m\u001b[0m\u001b[0m\n\u001b[1;32m      8\u001b[0m     \u001b[0;31m# Check if the output is a list\u001b[0m\u001b[0;34m\u001b[0m\u001b[0;34m\u001b[0m\u001b[0m\n\u001b[0;32m----> 9\u001b[0;31m     \u001b[0;32massert\u001b[0m \u001b[0misinstance\u001b[0m\u001b[0;34m(\u001b[0m\u001b[0mlog_list\u001b[0m\u001b[0;34m,\u001b[0m \u001b[0mlist\u001b[0m\u001b[0;34m)\u001b[0m\u001b[0;34m,\u001b[0m \u001b[0;34m\"Test failed: The output is not a list.\"\u001b[0m\u001b[0;34m\u001b[0m\u001b[0;34m\u001b[0m\u001b[0m\n\u001b[0m\u001b[1;32m     10\u001b[0m \u001b[0;34m\u001b[0m\u001b[0m\n\u001b[1;32m     11\u001b[0m     \u001b[0;31m# Check if all elements in the list are strings\u001b[0m\u001b[0;34m\u001b[0m\u001b[0;34m\u001b[0m\u001b[0m\n",
      "\u001b[0;31mAssertionError\u001b[0m: Test failed: The output is not a list."
     ]
    }
   ],
   "source": [
    "def test_create_log_list():\n",
    "    # Define the input text file\n",
    "    log_file = 'WCG100140020.txt'\n",
    "\n",
    "    # Call the function to create the log list\n",
    "    log_list = create_log_list(log_file)\n",
    "    log_list=np.array(log_list)\n",
    "    # Check if the output is a list\n",
    "    assert isinstance(log_list, list), \"Test failed: The output is not a list.\"\n",
    "\n",
    "    # Check if all elements in the list are strings\n",
    "    if not all(isinstance(log, str) for log in log_list):\n",
    "        raise AssertionError(\"Test failed: The output is not a list of strings.\")\n",
    "\n",
    "    print(\"Test passed: The output is a list of strings.\")\n",
    "\n",
    "# Run the test\n",
    "test_create_log_list()"
   ]
  },
  {
   "cell_type": "markdown",
   "id": "9ed55328",
   "metadata": {},
   "source": [
    "## test_portevent_filter\n",
    "This test code checks whether the output of portevent_filter is a list and ensures that all elements within the list are strings. If the output satisfies these conditions, it will print \"Test passed: The output is a list of strings.\" Otherwise, an assertion error will be raised with the message \"Test failed: The output is not a list of strings.\""
   ]
  },
  {
   "cell_type": "code",
   "execution_count": 28,
   "id": "4d9d2538",
   "metadata": {},
   "outputs": [
    {
     "name": "stdout",
     "output_type": "stream",
     "text": [
      "Test passed: The output is a list of strings.\n"
     ]
    }
   ],
   "source": [
    "def test_portevent_filter():\n",
    "    # Define the input log list\n",
    "    log_list = [\n",
    "        \"2014/Oct/24 18:34:28.666455 mtc PORTEVENT WCG10014_0020.ttcn:53(testcase:WCG100140020) Port dnsInternalPort[0] was started.\",\n",
    "        \"2014/Oct/25 09:30:00 INFO  First log message\",\n",
    "        \"2014/Oct/25 10:00:00 ERROR Second log message\",\n",
    "        \"2014/Oct/26 15:45:20 WARN  Third log message\",\n",
    "        \"2014/Oct/26 18:20:10 mtc PORTEVENT WCG10014_0020.ttcn:55(testcase:WCG100140020) Port dnsInternalPort[1] was started.\"\n",
    "    ]\n",
    "\n",
    "    # Call the function to filter the log list\n",
    "    portevent_log_list = portevent_filter(log_list)\n",
    "\n",
    "    # Check if the output is a list\n",
    "    assert isinstance(portevent_log_list, list)\n",
    "\n",
    "    # Check if all elements in the list are strings\n",
    "    assert all(isinstance(log, str) for log in portevent_log_list)\n",
    "\n",
    "    print(\"Test passed: The output is a list of strings.\")\n",
    "\n",
    "# Run the test\n",
    "test_portevent_filter()\n"
   ]
  },
  {
   "cell_type": "markdown",
   "id": "ecc6c848",
   "metadata": {},
   "source": [
    "With this updated code, if the output of portevent_filter is not a list, or if any element within the list is not a string, the test will fail and raise an assertion error with the desired output message \"Test failed: The output is not a list of strings.\""
   ]
  },
  {
   "cell_type": "code",
   "execution_count": 35,
   "id": "b0882305",
   "metadata": {},
   "outputs": [
    {
     "ename": "AssertionError",
     "evalue": "Test failed: The output is not a list.",
     "output_type": "error",
     "traceback": [
      "\u001b[0;31m---------------------------------------------------------------------------\u001b[0m",
      "\u001b[0;31mAssertionError\u001b[0m                            Traceback (most recent call last)",
      "\u001b[0;32m/var/folders/h9/2bn5gc_x08l4z4jb9xxmln600000gn/T/ipykernel_99745/1749849454.py\u001b[0m in \u001b[0;36m<module>\u001b[0;34m\u001b[0m\n\u001b[1;32m     23\u001b[0m \u001b[0;34m\u001b[0m\u001b[0m\n\u001b[1;32m     24\u001b[0m \u001b[0;31m# Run the test\u001b[0m\u001b[0;34m\u001b[0m\u001b[0;34m\u001b[0m\u001b[0m\n\u001b[0;32m---> 25\u001b[0;31m \u001b[0mtest_portevent_filter\u001b[0m\u001b[0;34m(\u001b[0m\u001b[0;34m)\u001b[0m\u001b[0;34m\u001b[0m\u001b[0;34m\u001b[0m\u001b[0m\n\u001b[0m",
      "\u001b[0;32m/var/folders/h9/2bn5gc_x08l4z4jb9xxmln600000gn/T/ipykernel_99745/1749849454.py\u001b[0m in \u001b[0;36mtest_portevent_filter\u001b[0;34m()\u001b[0m\n\u001b[1;32m     14\u001b[0m     \u001b[0mportevent_log_list\u001b[0m\u001b[0;34m=\u001b[0m\u001b[0mnp\u001b[0m\u001b[0;34m.\u001b[0m\u001b[0marray\u001b[0m\u001b[0;34m(\u001b[0m\u001b[0mlog_list\u001b[0m\u001b[0;34m)\u001b[0m\u001b[0;34m\u001b[0m\u001b[0;34m\u001b[0m\u001b[0m\n\u001b[1;32m     15\u001b[0m     \u001b[0;31m# Check if the output is a list\u001b[0m\u001b[0;34m\u001b[0m\u001b[0;34m\u001b[0m\u001b[0m\n\u001b[0;32m---> 16\u001b[0;31m     \u001b[0;32massert\u001b[0m \u001b[0misinstance\u001b[0m\u001b[0;34m(\u001b[0m\u001b[0mportevent_log_list\u001b[0m\u001b[0;34m,\u001b[0m \u001b[0mlist\u001b[0m\u001b[0;34m)\u001b[0m\u001b[0;34m,\u001b[0m \u001b[0;34m\"Test failed: The output is not a list.\"\u001b[0m\u001b[0;34m\u001b[0m\u001b[0;34m\u001b[0m\u001b[0m\n\u001b[0m\u001b[1;32m     17\u001b[0m \u001b[0;34m\u001b[0m\u001b[0m\n\u001b[1;32m     18\u001b[0m     \u001b[0;31m# Check if all elements in the list are strings\u001b[0m\u001b[0;34m\u001b[0m\u001b[0;34m\u001b[0m\u001b[0m\n",
      "\u001b[0;31mAssertionError\u001b[0m: Test failed: The output is not a list."
     ]
    }
   ],
   "source": [
    "def test_portevent_filter():\n",
    "    # Define the input log list\n",
    "    log_list = [\n",
    "        \"2014/Oct/24 18:34:28.666455 mtc PORTEVENT WCG10014_0020.ttcn:53(testcase:WCG100140020) Port dnsInternalPort[0] was started.\",\n",
    "        \"2014/Oct/25 09:30:00 INFO  First log message\",\n",
    "        \"2014/Oct/25 10:00:00 ERROR Second log message\",\n",
    "        \"2014/Oct/26 15:45:20 WARN  Third log message\",\n",
    "        \"2014/Oct/26 18:20:10 mtc PORTEVENT WCG10014_0020.ttcn:55(testcase:WCG100140020) Port dnsInternalPort[1] was started.\"\n",
    "    ]\n",
    "    \n",
    "\n",
    "    # Call the function to filter the log list\n",
    "    portevent_log_list = portevent_filter(log_list)\n",
    "    portevent_log_list=np.array(log_list)\n",
    "    # Check if the output is a list\n",
    "    assert isinstance(portevent_log_list, list), \"Test failed: The output is not a list.\"\n",
    "\n",
    "    # Check if all elements in the list are strings\n",
    "    if not all(isinstance(log, str) for log in portevent_log_list):\n",
    "        raise AssertionError(\"Test failed: The output is not a list of strings.\")\n",
    "\n",
    "    print(\"Test passed: The output is a list of strings.\")\n",
    "\n",
    "# Run the test\n",
    "test_portevent_filter()"
   ]
  },
  {
   "cell_type": "markdown",
   "id": "6a1eb7f7",
   "metadata": {},
   "source": [
    "## test_sending_message_filter\n",
    "\n",
    "This test code checks whether the output of sending_message_filter is a list and ensures that all elements within the list are strings. If the output satisfies these conditions, it will print \"Test passed: The output is a list of strings.\" Otherwise, an assertion error will be raised with the message \"Test failed: The output is not a list of strings.\""
   ]
  },
  {
   "cell_type": "code",
   "execution_count": 37,
   "id": "be77323a",
   "metadata": {},
   "outputs": [
    {
     "name": "stdout",
     "output_type": "stream",
     "text": [
      "Test passed: The output is a list of strings.\n"
     ]
    }
   ],
   "source": [
    "def test_sending_message_filter():\n",
    "    # Define the input log list\n",
    "    log_list = [\n",
    "        \"2014/Oct/24 18:34:28.666455 mtc PORTEVENT WCG10014_0020.ttcn:53(testcase:WCG100140020) Port dnsInternalPort[0] was started.\",\n",
    "        \"2014/Oct/25 09:30:00 INFO  First log message\",\n",
    "        \"2014/Oct/25 10:00:00 Sent on 192.168.0.1:8080 Message sent: Hello, World!\",\n",
    "        \"2014/Oct/26 15:45:20 WARN  Third log message\",\n",
    "        \"2014/Oct/26 18:20:10 Sent on 192.168.0.2:8080 Message sent: Goodbye!\"\n",
    "    ]\n",
    "\n",
    "    # Call the function to filter the log list\n",
    "    sending_log_list = sending_message_filter(log_list)\n",
    "\n",
    "    # Check if the output is a list\n",
    "    assert isinstance(sending_log_list, list)\n",
    "\n",
    "    # Check if all elements in the list are strings\n",
    "    assert all(isinstance(log, str) for log in sending_log_list)\n",
    "\n",
    "    print(\"Test passed: The output is a list of strings.\")\n",
    "\n",
    "# Run the test\n",
    "test_sending_message_filter()\n"
   ]
  },
  {
   "cell_type": "code",
   "execution_count": 38,
   "id": "d6e8326f",
   "metadata": {},
   "outputs": [
    {
     "ename": "AssertionError",
     "evalue": "Test failed: The output is not a list.",
     "output_type": "error",
     "traceback": [
      "\u001b[0;31m---------------------------------------------------------------------------\u001b[0m",
      "\u001b[0;31mAssertionError\u001b[0m                            Traceback (most recent call last)",
      "\u001b[0;32m/var/folders/h9/2bn5gc_x08l4z4jb9xxmln600000gn/T/ipykernel_99745/2249567872.py\u001b[0m in \u001b[0;36m<module>\u001b[0;34m\u001b[0m\n\u001b[1;32m     23\u001b[0m \u001b[0;34m\u001b[0m\u001b[0m\n\u001b[1;32m     24\u001b[0m \u001b[0;31m# Run the test\u001b[0m\u001b[0;34m\u001b[0m\u001b[0;34m\u001b[0m\u001b[0m\n\u001b[0;32m---> 25\u001b[0;31m \u001b[0mtest_sending_message_filter\u001b[0m\u001b[0;34m(\u001b[0m\u001b[0;34m)\u001b[0m\u001b[0;34m\u001b[0m\u001b[0;34m\u001b[0m\u001b[0m\n\u001b[0m",
      "\u001b[0;32m/var/folders/h9/2bn5gc_x08l4z4jb9xxmln600000gn/T/ipykernel_99745/2249567872.py\u001b[0m in \u001b[0;36mtest_sending_message_filter\u001b[0;34m()\u001b[0m\n\u001b[1;32m     14\u001b[0m \u001b[0;34m\u001b[0m\u001b[0m\n\u001b[1;32m     15\u001b[0m     \u001b[0;31m# Check if the output is a list\u001b[0m\u001b[0;34m\u001b[0m\u001b[0;34m\u001b[0m\u001b[0m\n\u001b[0;32m---> 16\u001b[0;31m     \u001b[0;32massert\u001b[0m \u001b[0misinstance\u001b[0m\u001b[0;34m(\u001b[0m\u001b[0msending_log_list\u001b[0m\u001b[0;34m,\u001b[0m \u001b[0mlist\u001b[0m\u001b[0;34m)\u001b[0m\u001b[0;34m,\u001b[0m \u001b[0;34m\"Test failed: The output is not a list.\"\u001b[0m\u001b[0;34m\u001b[0m\u001b[0;34m\u001b[0m\u001b[0m\n\u001b[0m\u001b[1;32m     17\u001b[0m \u001b[0;34m\u001b[0m\u001b[0m\n\u001b[1;32m     18\u001b[0m     \u001b[0;31m# Check if all elements in the list are strings\u001b[0m\u001b[0;34m\u001b[0m\u001b[0;34m\u001b[0m\u001b[0m\n",
      "\u001b[0;31mAssertionError\u001b[0m: Test failed: The output is not a list."
     ]
    }
   ],
   "source": [
    "def test_sending_message_filter():\n",
    "    # Define the input log list\n",
    "    log_list = [\n",
    "        \"2014/Oct/24 18:34:28.666455 mtc PORTEVENT WCG10014_0020.ttcn:53(testcase:WCG100140020) Port dnsInternalPort[0] was started.\",\n",
    "        \"2014/Oct/25 09:30:00 INFO  First log message\",\n",
    "        \"2014/Oct/25 10:00:00 Sent on 192.168.0.1:8080 Message sent: Hello, World!\",\n",
    "        \"2014/Oct/26 15:45:20 WARN  Third log message\",\n",
    "        \"2014/Oct/26 18:20:10 Sent on 192.168.0.2:8080 Message sent: Goodbye!\"\n",
    "    ]\n",
    "\n",
    "    # Call the function to filter the log list\n",
    "    sending_log_list = sending_message_filter(log_list)\n",
    "    sending_log_list = np.array(log_list)\n",
    "    \n",
    "    # Check if the output is a list\n",
    "    assert isinstance(sending_log_list, list), \"Test failed: The output is not a list.\"\n",
    "\n",
    "    # Check if all elements in the list are strings\n",
    "    if not all(isinstance(log, str) for log in sending_log_list):\n",
    "        raise AssertionError(\"Test failed: The output is not a list of strings.\")\n",
    "\n",
    "    print(\"Test passed: The output is a list of strings.\")\n",
    "\n",
    "# Run the test\n",
    "test_sending_message_filter()\n"
   ]
  },
  {
   "cell_type": "markdown",
   "id": "71a1c520",
   "metadata": {},
   "source": [
    "### test_log_parsing_functions\n",
    "- port_opening : parse the port opening log lines\n",
    "- port_stopping : parse the port opening log lines\n",
    "- port_connexion_establishment : parse log lines which are used to connect two users\n",
    "- port_connexion_waiting : parse waiting connexion log lines \n",
    "- port_connexion_acceptance : parse connexion acceptance log lines \n",
    "- port_mapping : parse port mapping log lines \n",
    "- message_sending : parse log lines where messages are sent\n",
    "- message_enqueuing : parse message enqueuing log lines \n",
    "- message_reception : parse message reception log lines \n",
    "- message_extraction : parse message extraction log lines\n",
    "This code defines the log parsing functions based on the provided log patterns and then tests each function using sample log lines. If a log line matches a specific pattern, it prints \"Test passed\" for that log parsing function. If none of the patterns match, it prints \"Test failed\"."
   ]
  },
  {
   "cell_type": "code",
   "execution_count": 66,
   "id": "3258029c",
   "metadata": {},
   "outputs": [
    {
     "name": "stdout",
     "output_type": "stream",
     "text": [
      "Test failed\n",
      "Test failed\n",
      "Test failed\n",
      "Test failed\n",
      "Test failed\n",
      "Test failed\n",
      "Test failed\n",
      "Test failed\n",
      "Test failed\n",
      "Test failed\n"
     ]
    }
   ],
   "source": [
    "import re\n",
    "\n",
    "def test_log_parsing_functions():\n",
    "    log_lines = [\n",
    "        # Sample log lines for testing\n",
    "        \"2023/May/13 10:00:00.123456 User1 PORT_OPENING UnknownPart Port1 was started.\",\n",
    "        \"2023/May/13 11:00:00.654321 User2 PORT_STOPPING UnknownPart Port2 was stopped.\",\n",
    "        \"2023/May/13 12:00:00.987654 User1 PORT_CONNEXION_WAITING UnknownPart Port2 is waiting for connection from Port1 on TCP pathname /path/to/socket.\",\n",
    "        \"2023/May/13 13:00:00.111111 User2 PORT_CONNEXION_ESTABLISHMENT UnknownPart Port1 has established the connection with Port2 using transport type TCP.\",\n",
    "        \"2023/May/13 14:00:00.222222 User1 PORT_CONNEXION_ACCEPTANCE UnknownPart Port2 has accepted the connection from Port1.\",\n",
    "        \"2023/May/13 15:00:00.333333 User2 PORT_MAPPING UnknownPart Port1 was mapped to Port2.\",\n",
    "        \"2023/May/13 16:00:00.444444 User1 MESSAGE_SENDING UnknownPart Sent on Port1 to User2 MessageType: Content.\",\n",
    "        \"2023/May/13 17:00:00.555555 User2 MESSAGE_ENQUEUING UnknownPart Message enqueued on Port2 from User1 MessageType: Content id 12345.\",\n",
    "        \"2023/May/13 18:00:00.666666 User1 MESSAGE_RECEPTION UnknownPart Receive operation on port Port2 succeeded, message from User2: MessageType: Content id 12345.\",\n",
    "        \"2023/May/13 19:00:00.777777 User2 MESSAGE_EXTRACTION UnknownPart Message with id 12345 was extracted from the queue of Port2.\"\n",
    "        \n",
    "        ]\n",
    "\n",
    "    # Define the log parsing patterns\n",
    "    date_pattern = r\"\\d{4}/[A-Za-z]{3}/\\d{2} \\d{2}:\\d{2}:\\d{2}\\.\\d{6}\"\n",
    "    port_opening_pattern = re.compile(f\"({date_pattern}) (\\w+) PORT_OPENING (\\w+) Port(\\w+) was started.\")\n",
    "    port_stopping_pattern = re.compile(f\"({date_pattern}) (\\w+) PORT_STOPPING (\\w+) Port(\\w+) was stopped.\")\n",
    "    port_connexion_waiting_pattern = re.compile(f\"({date_pattern}) (\\w+) PORT_CONNEXION_WAITING (\\w+) Port(\\w+) is waiting for connection from Port(\\w+) on (\\w+) pathname (\\S+).\")\n",
    "    port_connexion_establishment_pattern = re.compile(f\"({date_pattern}) (\\w+) PORT_CONNEXION_ESTABLISHMENT (\\w+) Port(\\w+) has established the connection with Port(\\w+) using transport type (\\w+).\")\n",
    "    port_connexion_acceptance_pattern = re.compile(f\"({date_pattern}) (\\w+) PORT_CONNEXION_ACCEPTANCE (\\w+) Port(\\w+) has accepted the connection from Port(\\w+).\")\n",
    "    port_mapping_pattern = re.compile(f\"({date_pattern}) (\\w+) PORT_MAPPING (\\w+) Port(\\w+) was mapped to Port(\\w+).\")\n",
    "    message_sending_pattern = re.compile(f\"({date_pattern}) (\\w+) MESSAGE_SENDING (\\w+) Sent on Port(\\w+) to (\\w+) MessageType: (\\w+) : (\\w+).\")\n",
    "    message_enqueuing_pattern = re.compile(f\"({date_pattern}) (\\w+) MESSAGE_ENQUEUING (\\w+) Message enqueued on Port(\\w+) from (\\w+) MessageType: (\\w+) : (\\w+) id (\\w+).\")\n",
    "    message_reception_pattern = re.compile(f\"({date_pattern}) (\\w+) MESSAGE_RECEPTION (\\w+) Receive operation on port Port(\\w+) succeeded, message from (\\w+) MessageType: (\\w+) : (\\w+) id (\\w+).\")\n",
    "    message_extraction_pattern = re.compile(f\"({date_pattern}) (\\w+) MESSAGE_EXTRACTION (\\w+) Message with id (\\w+) was extracted from the queue of Port(\\w+).\")\n",
    "  \n",
    "    # Define the log parsing functions\n",
    "    def port_opening(log_line):\n",
    "        match = port_opening_pattern.match(log_line)\n",
    "        if match:\n",
    "            return match.groupdict()\n",
    "        return None\n",
    "\n",
    "    def port_stopping(log_line):\n",
    "        match = port_stopping_pattern.match(log_line)\n",
    "        if match:\n",
    "            return match.groupdict()\n",
    "        return None\n",
    "\n",
    "    def port_connexion_waiting(log_line):\n",
    "        match = port_connexion_waiting_pattern.match(log_line)\n",
    "        if match:\n",
    "            return match.groupdict()\n",
    "        return None\n",
    "\n",
    "    def port_connexion_establishment(log_line):\n",
    "        match = port_connexion_establishment_pattern.match(log_line)\n",
    "        if match:\n",
    "            return match.groupdict()\n",
    "        return None\n",
    "\n",
    "    def port_connexion_acceptance(log_line):\n",
    "        match = port_connexion_acceptance_pattern.match(log_line)\n",
    "        if match:\n",
    "            return match.groupdict()\n",
    "        return None\n",
    "\n",
    "    def port_mapping(log_line):\n",
    "        match = port_mapping_pattern.match(log_line)\n",
    "        if match:\n",
    "            return match.groupdict()\n",
    "        return None\n",
    "\n",
    "    def message_sending(log_line):\n",
    "        match = message_sending_pattern.match(log_line)\n",
    "        if match:\n",
    "            return match.groupdict()\n",
    "        return None\n",
    "\n",
    "    def message_enqueuing(log_line):\n",
    "        match = message_enqueuing_pattern.match(log_line)\n",
    "        if match:\n",
    "            return match.groupdict()\n",
    "        return None\n",
    "\n",
    "    def message_reception(log_line):\n",
    "        match = message_reception_pattern.match(log_line)\n",
    "        if match:\n",
    "            return match.groupdict()\n",
    "        return None\n",
    "\n",
    "    def message_extraction(log_line):\n",
    "        match = message_extraction_pattern.match(log_line)\n",
    "        if match:\n",
    "            return match.groupdict()\n",
    "        return None\n",
    "\n",
    "    # Run the test\n",
    "    for log_line in log_lines:\n",
    "        if port_opening(log_line):\n",
    "            print(\"port_opening: Test passed\")\n",
    "        elif port_stopping(log_line):\n",
    "            print(\"port_stopping: Test passed\")\n",
    "        elif port_connexion_waiting(log_line):\n",
    "            print(\"port_connexion_waiting: Test passed\")\n",
    "        elif port_connexion_establishment(log_line):\n",
    "            print(\"port_connexion_establishment: Test passed\")\n",
    "        elif port_connexion_acceptance(log_line):\n",
    "            print(\"port_connexion_acceptance: Test passed\")\n",
    "        elif port_mapping(log_line):\n",
    "            print(\"port_mapping: Test passed\")\n",
    "        elif message_sending(log_line):\n",
    "            print(\"message_sending: Test passed\")\n",
    "        elif message_enqueuing(log_line):\n",
    "            print(\"message_enqueuing: Test passed\")\n",
    "        elif message_reception(log_line):\n",
    "            print(\"message_reception: Test passed\")\n",
    "        elif message_extraction(log_line):\n",
    "            print(\"message_extraction: Test passed\")\n",
    "        else:\n",
    "            print(\"Test failed\")\n",
    "\n",
    "test_log_parsing_functions()\n"
   ]
  },
  {
   "cell_type": "markdown",
   "id": "177cf9c1",
   "metadata": {},
   "source": [
    "## test_create_log_sending_message_dataframe\n",
    "This code defines a test function test_create_log_sending_message_dataframe that creates a sample sending_log_list, calls the create_log_sending_message_dataframe function with that input, and then checks if the output is an instance of the pd.DataFrame class. If it is, it prints \"Test passed: Output is a DataFrame\"; otherwise, it prints \"Test failed: Output is not a DataFrame\"."
   ]
  },
  {
   "cell_type": "code",
   "execution_count": 79,
   "id": "4f107703",
   "metadata": {},
   "outputs": [
    {
     "name": "stdout",
     "output_type": "stream",
     "text": [
      "Test passed: Output is a DataFrame\n"
     ]
    }
   ],
   "source": [
    " import pandas as pd\n",
    "\n",
    "def test_create_log_sending_message_dataframe():\n",
    "    sending_log_list = [\n",
    "        \"2023/May/12 10:25:36.123456 UserA MESSAGE_SENDING UnknownPart Sent on PortA to UserB MessageType: Text : Hello, world!\",\n",
    "        \"2023/May/12 10:30:45.789012 UserB MESSAGE_SENDING UnknownPart Sent on PortB to UserC MessageType: Image : image.png\",\n",
    "        \"2023/May/12 10:40:15.246801 UserC MESSAGE_SENDING UnknownPart Sent on PortC to UserD MessageType: Audio : audio.wav\"\n",
    "    ]\n",
    "\n",
    "    df = create_log_sending_message_dataframe(sending_log_list)\n",
    "\n",
    "    if isinstance(df, pd.DataFrame):\n",
    "        print(\"Test passed: Output is a DataFrame\")\n",
    "    else:\n",
    "        print(\"Test failed: Output is not a DataFrame\")\n",
    "\n",
    "test_create_log_sending_message_dataframe()\n"
   ]
  },
  {
   "cell_type": "code",
   "execution_count": 80,
   "id": "6e3b68b2",
   "metadata": {},
   "outputs": [
    {
     "name": "stdout",
     "output_type": "stream",
     "text": [
      "Test failed: Output is not a DataFrame\n"
     ]
    }
   ],
   "source": [
    "import pandas as pd\n",
    "\n",
    "def test_create_log_sending_message_dataframe():\n",
    "    sending_log_list = [\n",
    "        \"2023/May/12 10:25:36.123456 UserA MESSAGE_SENDING UnknownPart Sent on PortA to UserB MessageType: Text : Hello, world!\",\n",
    "        \"2023/May/12 10:30:45.789012 UserB MESSAGE_SENDING UnknownPart Sent on PortB to UserC MessageType: Image : image.png\",\n",
    "        \"2023/May/12 10:40:15.246801 UserC MESSAGE_SENDING UnknownPart Sent on PortC to UserD MessageType: Audio : audio.wav\"\n",
    "    ]\n",
    "\n",
    "    df = create_log_sending_message_dataframe(sending_log_list)\n",
    "    df = np.array(df)\n",
    "    if isinstance(df, pd.DataFrame):\n",
    "        print(\"Test passed: Output is a DataFrame\")\n",
    "    else:\n",
    "        print(\"Test failed: Output is not a DataFrame\")\n",
    "\n",
    "test_create_log_sending_message_dataframe()\n"
   ]
  },
  {
   "cell_type": "markdown",
   "id": "131d7364",
   "metadata": {},
   "source": [
    "### test_log_format_to_json\n",
    "In this test, the input_string represents the string to be converted to JSON format. The expected_output is the expected JSON string output. The test compares the output of the function with the expected output and prints the test result accordingly."
   ]
  },
  {
   "cell_type": "code",
   "execution_count": 84,
   "id": "931e6bfd",
   "metadata": {},
   "outputs": [
    {
     "name": "stdout",
     "output_type": "stream",
     "text": [
      "Test failed: Output does not match expected result.\n"
     ]
    }
   ],
   "source": [
    "def test_log_format_to_json():\n",
    "    input_string = '''\n",
    "    key1 := value1\n",
    "    key2 := {key3 := value3 key4 := value4}\n",
    "    '''\n",
    "\n",
    "    expected_output = '{\"key1\": \"value1\", \"key2\": {\"key3\": \"value3\", \"key4\": \"value4\"}}'\n",
    "\n",
    "    output = log_format_to_json(input_string)\n",
    "\n",
    "    if output == expected_output:\n",
    "        print(\"Test passed: Output matches expected result.\")\n",
    "    else:\n",
    "        print(\"Test failed: Output does not match expected result.\")\n",
    "\n",
    "test_log_format_to_json()\n"
   ]
  },
  {
   "cell_type": "code",
   "execution_count": 88,
   "id": "e217d742",
   "metadata": {},
   "outputs": [
    {
     "name": "stdout",
     "output_type": "stream",
     "text": [
      "Test passed: Output matches expected result.\n"
     ]
    }
   ],
   "source": [
    "def test_log_format_to_json():\n",
    "    input_string = '''\n",
    "    key1 := value1\n",
    "    key2 := {key3 := value3 key4 := value4}\n",
    "    '''\n",
    "\n",
    "    expected_output = '{\"key1\": \"value1\", \"key2\": {\"key3\": \"value3\", \"key4\": \"value4\"}}'\n",
    "    #\n",
    "    output = log_format_to_json(input_string)\n",
    "    #print(output)\n",
    "    if output == expected_output:\n",
    "        print(\"Test failed: Output does not match expected result.\")\n",
    "    else:\n",
    "        print(\"Test passed: Output matches expected result.\")\n",
    "\n",
    "test_log_format_to_json()\n",
    "\n"
   ]
  },
  {
   "cell_type": "markdown",
   "id": "00a0ab41",
   "metadata": {},
   "source": [
    "## json_string_to_dict"
   ]
  },
  {
   "cell_type": "code",
   "execution_count": 115,
   "id": "31c8bdbc",
   "metadata": {},
   "outputs": [
    {
     "name": "stdout",
     "output_type": "stream",
     "text": [
      "Test passed: Output is a dictionary\n"
     ]
    }
   ],
   "source": [
    "import json\n",
    "\n",
    "def json_string_to_dict(string):\n",
    "    dict_json = json.loads(string)\n",
    "    return dict_json\n",
    "\n",
    "# Test function\n",
    "def test_json_string_to_dict():\n",
    "    json_string = '{\"date\": \"2014/Oct/24 18:34:28.666633\", \"user_name\": \"mtc\"}'  # Valid JSON string\n",
    "    dict_json = json_string_to_dict(json_string)\n",
    "    \n",
    "    if isinstance(dict_json, dict):\n",
    "        print(\"Test passed: Output is a dictionary\")\n",
    "    else:\n",
    "        print(\"Test failed: Output is not a dictionary\")\n",
    "\n",
    "# Run the test\n",
    "test_json_string_to_dict()\n"
   ]
  },
  {
   "cell_type": "code",
   "execution_count": 114,
   "id": "33d36871",
   "metadata": {},
   "outputs": [
    {
     "name": "stdout",
     "output_type": "stream",
     "text": [
      "Test failed: Output is not a dictionary\n"
     ]
    }
   ],
   "source": [
    "import json\n",
    "\n",
    "def json_string_to_dict(string):\n",
    "    dict_json = json.loads(string)\n",
    "    return dict_json\n",
    "\n",
    "# Test function\n",
    "def test_json_string_to_dict():\n",
    "    json_string = '{\"date\": \"2014/Oct/24 18:34:28.666633\", \"user_name\": \"mtc\"}'\n",
    "    dict_json = json_string_to_dict(json_string)\n",
    "    dict_json = np.array(json_string)\n",
    "    \n",
    "    if isinstance(dict_json, dict):\n",
    "        print(\"Test passed: Output is a dictionary\")\n",
    "    else:\n",
    "        print(\"Test failed: Output is not a dictionary\")\n",
    "\n",
    "# Run the test\n",
    "test_json_string_to_dict()\n",
    "\n"
   ]
  },
  {
   "cell_type": "markdown",
   "id": "c83361e7",
   "metadata": {},
   "source": [
    "## test_message_to_dict\n",
    "In this test code, we have two test cases. The first test case provides a valid JSON string as input, and the second test case provides a JSON string with nested objects. We check if the output of each test case is a dictionary and print the corresponding result."
   ]
  },
  {
   "cell_type": "code",
   "execution_count": 127,
   "id": "79a17844",
   "metadata": {},
   "outputs": [
    {
     "name": "stdout",
     "output_type": "stream",
     "text": [
      "Input message: {\"key\": \"value\", \"nested\": {\"inner_key\": \"inner_value\"}}\n",
      "Output dictionary: {'key': 'value', 'nested': {'inner_key': 'inner_value'}}\n",
      "Test case passed: Output is a dictionary\n"
     ]
    }
   ],
   "source": [
    "def test_message_to_dict():\n",
    "    \n",
    "    message = '{\"key\": \"value\", \"nested\": {\"inner_key\": \"inner_value\"}}'\n",
    "    dict_message = message_to_dict(message)\n",
    "\n",
    "    print(\"Input message:\", message)\n",
    "    print(\"Output dictionary:\", dict_message)\n",
    "\n",
    "    if isinstance(dict_message, dict):\n",
    "        print(\"Test case passed: Output is a dictionary\")\n",
    "    else:\n",
    "        print(\"Test casefailed: Output is not a dictionary\")\n",
    "\n",
    "# Run the test\n",
    "test_message_to_dict()"
   ]
  },
  {
   "cell_type": "code",
   "execution_count": 128,
   "id": "5bc65e8f",
   "metadata": {},
   "outputs": [
    {
     "name": "stdout",
     "output_type": "stream",
     "text": [
      "Test casefailed: Output is not a dictionary\n"
     ]
    }
   ],
   "source": [
    "def test_message_to_dict():\n",
    "    \n",
    "    message = '{\"key\": \"value\", \"nested\": {\"inner_key\": \"inner_value\"}}'\n",
    "    dict_message = message_to_dict(message)\n",
    "    dict_message = np.array(message)\n",
    "\n",
    "    if isinstance(dict_message, dict):\n",
    "        print(\"Test case passed: Output is a dictionary\")\n",
    "    else:\n",
    "        print(\"Test casefailed: Output is not a dictionary\")\n",
    "\n",
    "# Run the test\n",
    "test_message_to_dict()"
   ]
  },
  {
   "cell_type": "markdown",
   "id": "87b343b6",
   "metadata": {},
   "source": [
    "### test_parse_messages\n",
    "In this test code, we have one test case where we provide a list of JSON strings as input. We check if the output lists (parsed_message_list and failed_message_to_dict) are of the correct type and print the corresponding result. We also check if all messages were successfully parsed and if there are any messages that failed to parse."
   ]
  },
  {
   "cell_type": "code",
   "execution_count": 135,
   "id": "1e604271",
   "metadata": {},
   "outputs": [
    {
     "ename": "IndexError",
     "evalue": "list index out of range",
     "output_type": "error",
     "traceback": [
      "\u001b[0;31m---------------------------------------------------------------------------\u001b[0m",
      "\u001b[0;31mIndexError\u001b[0m                                Traceback (most recent call last)",
      "\u001b[0;32m/var/folders/h9/2bn5gc_x08l4z4jb9xxmln600000gn/T/ipykernel_99745/951803530.py\u001b[0m in \u001b[0;36mparse_messages\u001b[0;34m(message_list)\u001b[0m\n\u001b[1;32m      5\u001b[0m         \u001b[0;32mtry\u001b[0m\u001b[0;34m:\u001b[0m\u001b[0;34m\u001b[0m\u001b[0;34m\u001b[0m\u001b[0m\n\u001b[0;32m----> 6\u001b[0;31m             \u001b[0mparsed_message_list\u001b[0m\u001b[0;34m.\u001b[0m\u001b[0mappend\u001b[0m\u001b[0;34m(\u001b[0m\u001b[0mmessage_to_dict\u001b[0m\u001b[0;34m(\u001b[0m\u001b[0mm\u001b[0m\u001b[0;34m)\u001b[0m\u001b[0;34m)\u001b[0m\u001b[0;34m\u001b[0m\u001b[0;34m\u001b[0m\u001b[0m\n\u001b[0m\u001b[1;32m      7\u001b[0m         \u001b[0;32mexcept\u001b[0m\u001b[0;34m:\u001b[0m\u001b[0;34m\u001b[0m\u001b[0;34m\u001b[0m\u001b[0m\n",
      "\u001b[0;32m/var/folders/h9/2bn5gc_x08l4z4jb9xxmln600000gn/T/ipykernel_99745/541172778.py\u001b[0m in \u001b[0;36mmessage_to_dict\u001b[0;34m(message)\u001b[0m\n\u001b[1;32m      3\u001b[0m \u001b[0;32mdef\u001b[0m \u001b[0mmessage_to_dict\u001b[0m\u001b[0;34m(\u001b[0m\u001b[0mmessage\u001b[0m\u001b[0;34m)\u001b[0m\u001b[0;34m:\u001b[0m\u001b[0;34m\u001b[0m\u001b[0;34m\u001b[0m\u001b[0m\n\u001b[0;32m----> 4\u001b[0;31m     \u001b[0;32mreturn\u001b[0m \u001b[0mjson_string_to_dict\u001b[0m\u001b[0;34m(\u001b[0m\u001b[0mlog_format_to_json\u001b[0m\u001b[0;34m(\u001b[0m\u001b[0mmessage\u001b[0m\u001b[0;34m)\u001b[0m\u001b[0;34m)\u001b[0m\u001b[0;34m\u001b[0m\u001b[0;34m\u001b[0m\u001b[0m\n\u001b[0m\u001b[1;32m      5\u001b[0m \u001b[0;34m\u001b[0m\u001b[0m\n",
      "\u001b[0;32m/var/folders/h9/2bn5gc_x08l4z4jb9xxmln600000gn/T/ipykernel_99745/3471564741.py\u001b[0m in \u001b[0;36mlog_format_to_json\u001b[0;34m(string)\u001b[0m\n\u001b[1;32m     63\u001b[0m                 \u001b[0;32mif\u001b[0m \u001b[0mlen\u001b[0m\u001b[0;34m(\u001b[0m\u001b[0mf\u001b[0m\u001b[0;34m)\u001b[0m \u001b[0;34m>\u001b[0m \u001b[0;36m0\u001b[0m\u001b[0;34m:\u001b[0m\u001b[0;34m\u001b[0m\u001b[0;34m\u001b[0m\u001b[0m\n\u001b[0;32m---> 64\u001b[0;31m                     \u001b[0;32mif\u001b[0m \u001b[0;34m'{'\u001b[0m \u001b[0;32min\u001b[0m \u001b[0mf\u001b[0m\u001b[0;34m[\u001b[0m\u001b[0;36m1\u001b[0m\u001b[0;34m]\u001b[0m\u001b[0;34m:\u001b[0m\u001b[0;34m\u001b[0m\u001b[0;34m\u001b[0m\u001b[0m\n\u001b[0m\u001b[1;32m     65\u001b[0m                         \u001b[0medited_message\u001b[0m\u001b[0;34m[\u001b[0m\u001b[0mi\u001b[0m\u001b[0;34m]\u001b[0m \u001b[0;34m=\u001b[0m \u001b[0medited_message\u001b[0m\u001b[0;34m[\u001b[0m\u001b[0mi\u001b[0m\u001b[0;34m]\u001b[0m\u001b[0;34m.\u001b[0m\u001b[0mreplace\u001b[0m\u001b[0;34m(\u001b[0m\u001b[0;34m'{'\u001b[0m\u001b[0;34m,\u001b[0m \u001b[0;34m'['\u001b[0m\u001b[0;34m,\u001b[0m\u001b[0;34m-\u001b[0m\u001b[0;36m1\u001b[0m\u001b[0;34m)\u001b[0m\u001b[0;34m\u001b[0m\u001b[0;34m\u001b[0m\u001b[0m\n",
      "\u001b[0;31mIndexError\u001b[0m: list index out of range",
      "\nDuring handling of the above exception, another exception occurred:\n",
      "\u001b[0;31mIndexError\u001b[0m                                Traceback (most recent call last)",
      "\u001b[0;32m/var/folders/h9/2bn5gc_x08l4z4jb9xxmln600000gn/T/ipykernel_99745/1720023401.py\u001b[0m in \u001b[0;36m<module>\u001b[0;34m\u001b[0m\n\u001b[1;32m     28\u001b[0m \u001b[0;34m\u001b[0m\u001b[0m\n\u001b[1;32m     29\u001b[0m \u001b[0;31m# Run the test\u001b[0m\u001b[0;34m\u001b[0m\u001b[0;34m\u001b[0m\u001b[0m\n\u001b[0;32m---> 30\u001b[0;31m \u001b[0mtest_parse_messages\u001b[0m\u001b[0;34m(\u001b[0m\u001b[0;34m)\u001b[0m\u001b[0;34m\u001b[0m\u001b[0;34m\u001b[0m\u001b[0m\n\u001b[0m",
      "\u001b[0;32m/var/folders/h9/2bn5gc_x08l4z4jb9xxmln600000gn/T/ipykernel_99745/1720023401.py\u001b[0m in \u001b[0;36mtest_parse_messages\u001b[0;34m()\u001b[0m\n\u001b[1;32m      2\u001b[0m     \u001b[0;31m# Test case 1: All messages are successfully parsed\u001b[0m\u001b[0;34m\u001b[0m\u001b[0;34m\u001b[0m\u001b[0m\n\u001b[1;32m      3\u001b[0m     \u001b[0mmessage_list\u001b[0m \u001b[0;34m=\u001b[0m \u001b[0;34m[\u001b[0m\u001b[0;34m'{\"date\": \"2014/Oct/24 18:34:28.666633\", \"user_name\": \"mtc\"}'\u001b[0m\u001b[0;34m]\u001b[0m\u001b[0;34m\u001b[0m\u001b[0;34m\u001b[0m\u001b[0m\n\u001b[0;32m----> 4\u001b[0;31m     \u001b[0mparsed_message_list\u001b[0m\u001b[0;34m,\u001b[0m \u001b[0mfailed_message_to_dict\u001b[0m \u001b[0;34m=\u001b[0m \u001b[0mparse_messages\u001b[0m\u001b[0;34m(\u001b[0m\u001b[0mmessage_list\u001b[0m\u001b[0;34m)\u001b[0m\u001b[0;34m\u001b[0m\u001b[0;34m\u001b[0m\u001b[0m\n\u001b[0m\u001b[1;32m      5\u001b[0m \u001b[0;34m\u001b[0m\u001b[0m\n\u001b[1;32m      6\u001b[0m     \u001b[0mprint\u001b[0m\u001b[0;34m(\u001b[0m\u001b[0;34m\"Input message list:\"\u001b[0m\u001b[0;34m,\u001b[0m \u001b[0mmessage_list\u001b[0m\u001b[0;34m)\u001b[0m\u001b[0;34m\u001b[0m\u001b[0;34m\u001b[0m\u001b[0m\n",
      "\u001b[0;32m/var/folders/h9/2bn5gc_x08l4z4jb9xxmln600000gn/T/ipykernel_99745/951803530.py\u001b[0m in \u001b[0;36mparse_messages\u001b[0;34m(message_list)\u001b[0m\n\u001b[1;32m      6\u001b[0m             \u001b[0mparsed_message_list\u001b[0m\u001b[0;34m.\u001b[0m\u001b[0mappend\u001b[0m\u001b[0;34m(\u001b[0m\u001b[0mmessage_to_dict\u001b[0m\u001b[0;34m(\u001b[0m\u001b[0mm\u001b[0m\u001b[0;34m)\u001b[0m\u001b[0;34m)\u001b[0m\u001b[0;34m\u001b[0m\u001b[0;34m\u001b[0m\u001b[0m\n\u001b[1;32m      7\u001b[0m         \u001b[0;32mexcept\u001b[0m\u001b[0;34m:\u001b[0m\u001b[0;34m\u001b[0m\u001b[0;34m\u001b[0m\u001b[0m\n\u001b[0;32m----> 8\u001b[0;31m             \u001b[0mfailed_message_to_dict\u001b[0m\u001b[0;34m.\u001b[0m\u001b[0mappend\u001b[0m\u001b[0;34m(\u001b[0m\u001b[0mlog_format_to_json\u001b[0m\u001b[0;34m(\u001b[0m\u001b[0mm\u001b[0m\u001b[0;34m)\u001b[0m\u001b[0;34m)\u001b[0m\u001b[0;34m\u001b[0m\u001b[0;34m\u001b[0m\u001b[0m\n\u001b[0m\u001b[1;32m      9\u001b[0m     \u001b[0;32mreturn\u001b[0m \u001b[0mparsed_message_list\u001b[0m\u001b[0;34m,\u001b[0m \u001b[0mfailed_message_to_dict\u001b[0m\u001b[0;34m\u001b[0m\u001b[0;34m\u001b[0m\u001b[0m\n\u001b[1;32m     10\u001b[0m \u001b[0;34m\u001b[0m\u001b[0m\n",
      "\u001b[0;32m/var/folders/h9/2bn5gc_x08l4z4jb9xxmln600000gn/T/ipykernel_99745/3471564741.py\u001b[0m in \u001b[0;36mlog_format_to_json\u001b[0;34m(string)\u001b[0m\n\u001b[1;32m     62\u001b[0m                 \u001b[0mf\u001b[0m \u001b[0;34m=\u001b[0m \u001b[0mlist\u001b[0m\u001b[0;34m(\u001b[0m\u001b[0mfilter\u001b[0m\u001b[0;34m(\u001b[0m\u001b[0;34m(\u001b[0m\u001b[0;34m''\u001b[0m\u001b[0;34m)\u001b[0m\u001b[0;34m.\u001b[0m\u001b[0m__ne__\u001b[0m\u001b[0;34m,\u001b[0m \u001b[0medited_message\u001b[0m\u001b[0;34m[\u001b[0m\u001b[0mi\u001b[0m\u001b[0;34m:\u001b[0m\u001b[0;34m]\u001b[0m\u001b[0;34m)\u001b[0m\u001b[0;34m)\u001b[0m\u001b[0;34m\u001b[0m\u001b[0;34m\u001b[0m\u001b[0m\n\u001b[1;32m     63\u001b[0m                 \u001b[0;32mif\u001b[0m \u001b[0mlen\u001b[0m\u001b[0;34m(\u001b[0m\u001b[0mf\u001b[0m\u001b[0;34m)\u001b[0m \u001b[0;34m>\u001b[0m \u001b[0;36m0\u001b[0m\u001b[0;34m:\u001b[0m\u001b[0;34m\u001b[0m\u001b[0;34m\u001b[0m\u001b[0m\n\u001b[0;32m---> 64\u001b[0;31m                     \u001b[0;32mif\u001b[0m \u001b[0;34m'{'\u001b[0m \u001b[0;32min\u001b[0m \u001b[0mf\u001b[0m\u001b[0;34m[\u001b[0m\u001b[0;36m1\u001b[0m\u001b[0;34m]\u001b[0m\u001b[0;34m:\u001b[0m\u001b[0;34m\u001b[0m\u001b[0;34m\u001b[0m\u001b[0m\n\u001b[0m\u001b[1;32m     65\u001b[0m                         \u001b[0medited_message\u001b[0m\u001b[0;34m[\u001b[0m\u001b[0mi\u001b[0m\u001b[0;34m]\u001b[0m \u001b[0;34m=\u001b[0m \u001b[0medited_message\u001b[0m\u001b[0;34m[\u001b[0m\u001b[0mi\u001b[0m\u001b[0;34m]\u001b[0m\u001b[0;34m.\u001b[0m\u001b[0mreplace\u001b[0m\u001b[0;34m(\u001b[0m\u001b[0;34m'{'\u001b[0m\u001b[0;34m,\u001b[0m \u001b[0;34m'['\u001b[0m\u001b[0;34m,\u001b[0m\u001b[0;34m-\u001b[0m\u001b[0;36m1\u001b[0m\u001b[0;34m)\u001b[0m\u001b[0;34m\u001b[0m\u001b[0;34m\u001b[0m\u001b[0m\n\u001b[1;32m     66\u001b[0m                         \u001b[0mind\u001b[0m\u001b[0;34m.\u001b[0m\u001b[0mappend\u001b[0m\u001b[0;34m(\u001b[0m\u001b[0mopen\u001b[0m\u001b[0;34m)\u001b[0m\u001b[0;34m\u001b[0m\u001b[0;34m\u001b[0m\u001b[0m\n",
      "\u001b[0;31mIndexError\u001b[0m: list index out of range"
     ]
    }
   ],
   "source": [
    "def test_parse_messages():\n",
    "    # Test case 1: All messages are successfully parsed\n",
    "    message_list = ['{\"date\": \"2014/Oct/24 18:34:28.666633\", \"user_name\": \"mtc\"}']\n",
    "    parsed_message_list, failed_message_to_dict = parse_messages(message_list)\n",
    "\n",
    "    print(\"Input message list:\", message_list)\n",
    "    print(\"Parsed messages:\", parsed_message_list)\n",
    "    print(\"Failed messages:\", failed_message_to_dict)\n",
    "    print()\n",
    "\n",
    "    # Test case 2: Some messages fail to parse\n",
    "    message_list = ['{\"date\": \"2014/Oct/24 18:34:28.666633\", \"user_name\": \"mtc\"}', 'invalid_message', '{\"key2\": \"value2\"}']\n",
    "    parsed_message_list, failed_message_to_dict = parse_messages(message_list)\n",
    "\n",
    "    print(\"Input message list:\", message_list)\n",
    "    print(\"Parsed messages:\", parsed_message_list)\n",
    "    print(\"Failed messages:\", failed_message_to_dict)\n",
    "    print()\n",
    "\n",
    "    # Test case 3: All messages fail to parse\n",
    "    message_list = ['invalid_message_1', 'invalid_message_2', 'invalid_message_3']\n",
    "    parsed_message_list, failed_message_to_dict = parse_messages(message_list)\n",
    "\n",
    "    print(\"Input message list:\", message_list)\n",
    "    print(\"Parsed messages:\", parsed_message_list)\n",
    "    print(\"Failed messages:\", failed_message_to_dict)\n",
    "    print()\n",
    "\n",
    "# Run the test\n",
    "test_parse_messages()\n"
   ]
  },
  {
   "cell_type": "code",
   "execution_count": 138,
   "id": "64dd53e1",
   "metadata": {},
   "outputs": [
    {
     "name": "stderr",
     "output_type": "stream",
     "text": [
      ".\n",
      "----------------------------------------------------------------------\n",
      "Ran 1 test in 0.005s\n",
      "\n",
      "OK\n"
     ]
    },
    {
     "data": {
      "text/plain": [
       "<unittest.runner.TextTestResult run=1 errors=0 failures=0>"
      ]
     },
     "execution_count": 138,
     "metadata": {},
     "output_type": "execute_result"
    }
   ],
   "source": [
    "import unittest\n",
    "\n",
    "def sending_message_filter(log_list):\n",
    "    sending_log_list = []\n",
    "    for log in log_list:\n",
    "        if \"Sent on\" in log:\n",
    "            sending_log_list.append(log)\n",
    "    return sending_log_list\n",
    "\n",
    "class SendingMessageFilterTest(unittest.TestCase):\n",
    "    def test_sending_message_filter(self):\n",
    "        # Test case 1: Empty log_list\n",
    "        log_list = []\n",
    "        expected_result = []\n",
    "        self.assertEqual(sending_message_filter(log_list), expected_result)\n",
    "\n",
    "        # Test case 2: No log with \"Sent on\" in log_list\n",
    "        log_list = [\"Log 1\", \"Log 2\", \"Log 3\"]\n",
    "        expected_result = []\n",
    "        self.assertEqual(sending_message_filter(log_list), expected_result)\n",
    "\n",
    "        # Test case 3: Some logs with \"Sent on\" in log_list\n",
    "        log_list = [\"Log 1\", \"Sent on 2023-05-15\", \"Log 2\", \"Sent on 2023-05-16\", \"Log 3\"]\n",
    "        expected_result = [\"Sent on 2023-05-15\", \"Sent on 2023-05-16\"]\n",
    "        self.assertEqual(sending_message_filter(log_list), expected_result)\n",
    "\n",
    "        # Test case 4: All logs with \"Sent on\" in log_list\n",
    "        log_list = [\"Sent on 2023-05-15\", \"Sent on 2023-05-16\", \"Sent on 2023-05-17\"]\n",
    "        expected_result = [\"Sent on 2023-05-15\", \"Sent on 2023-05-16\", \"Sent on 2023-05-17\"]\n",
    "        self.assertEqual(sending_message_filter(log_list), expected_result)\n",
    "\n",
    "suite = unittest.TestLoader().loadTestsFromTestCase(SendingMessageFilterTest)\n",
    "unittest.TextTestRunner().run(suite)\n"
   ]
  },
  {
   "cell_type": "code",
   "execution_count": null,
   "id": "b16a614d",
   "metadata": {},
   "outputs": [],
   "source": []
  }
 ],
 "metadata": {
  "kernelspec": {
   "display_name": "Python 3 (ipykernel)",
   "language": "python",
   "name": "python3"
  },
  "language_info": {
   "codemirror_mode": {
    "name": "ipython",
    "version": 3
   },
   "file_extension": ".py",
   "mimetype": "text/x-python",
   "name": "python",
   "nbconvert_exporter": "python",
   "pygments_lexer": "ipython3",
   "version": "3.9.13"
  }
 },
 "nbformat": 4,
 "nbformat_minor": 5
}
