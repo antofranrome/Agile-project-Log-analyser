{
 "cells": [
  {
   "attachments": {},
   "cell_type": "markdown",
   "metadata": {},
   "source": [
    "## Import Libraries"
   ]
  },
  {
   "cell_type": "code",
   "execution_count": 1,
   "metadata": {},
   "outputs": [],
   "source": [
    "from parse import compile\n",
    "from parse import with_pattern\n",
    "import datetime as dt\n",
    "import pandas as pd\n",
    "import json"
   ]
  },
  {
   "attachments": {},
   "cell_type": "markdown",
   "metadata": {},
   "source": [
    "## create_log_list\n",
    "- description: function which create a **python list** from the original **text file** containing the logs.\n",
    "- input: text file (.txt)\n",
    "- output: list of string"
   ]
  },
  {
   "cell_type": "code",
   "execution_count": 2,
   "metadata": {},
   "outputs": [],
   "source": [
    "def create_log_list(log_file):\n",
    "    logs = open(log_file)\n",
    "    lines  = logs.readlines()\n",
    "    log_list = []\n",
    "    log = ''\n",
    "    for line in lines:\n",
    "        if line[:11] == \"2014/Oct/24\":\n",
    "            log_list.append(log)\n",
    "            log = line\n",
    "        else:\n",
    "            log += line\n",
    "\n",
    "    log_list = log_list[1:]\n",
    "    return log_list\n",
    "\n",
    "log_list = create_log_list('WCG100140020.txt')"
   ]
  },
  {
   "attachments": {},
   "cell_type": "markdown",
   "metadata": {},
   "source": [
    "## portevent_filter\n",
    "- description: function which filter a **log list** to extract only the logs of the type **PORTEVENT** (example : 2014/Oct/24 18:34:28.666455 mtc PORTEVENT WCG10014_0020.ttcn:53(testcase:WCG100140020) Port dnsInternalPort[0] was started.)\n",
    "- input: list of string\n",
    "- output: list of string"
   ]
  },
  {
   "cell_type": "code",
   "execution_count": 3,
   "metadata": {},
   "outputs": [],
   "source": [
    "def portevent_filter(log_list):\n",
    "    portevent_log_list = []\n",
    "    file = open('porteventlogs.txt', 'w')\n",
    "    for log in log_list:\n",
    "        if \"PORTEVENT\" in log:\n",
    "            log_line = log.replace('\\n', '')\n",
    "            portevent_log_list.append(log_line)\n",
    "            file.write(log_line)\n",
    "    return portevent_log_list\n",
    "\n",
    "portevent_log_list  = portevent_filter(log_list)\n"
   ]
  },
  {
   "attachments": {},
   "cell_type": "markdown",
   "metadata": {},
   "source": [
    "## sending_message_filter\n",
    "- description: function which filter a **log list** to extract only the logs which send message\n",
    "- input: list of string\n",
    "- output: list of string"
   ]
  },
  {
   "cell_type": "code",
   "execution_count": 4,
   "metadata": {},
   "outputs": [],
   "source": [
    "\n",
    "def sending_message_filter(log_list):\n",
    "    sending_log_list = []\n",
    "    for log in log_list:\n",
    "        if \"Sent on\" in log:\n",
    "            sending_log_list.append(log)\n",
    "    return sending_log_list\n",
    "\n",
    "sending_log_list = sending_message_filter(log_list)"
   ]
  },
  {
   "attachments": {},
   "cell_type": "markdown",
   "metadata": {},
   "source": [
    "## Creation of log parsing fonctions :\n",
    "- port_opening : parse the port opening log lines\n",
    "- port_stopping : parse the port opening log lines\n",
    "- port_connexion_establishment : parse log lines which are used to connect two users\n",
    "- port_connexion_waiting : parse waiting connexion log lines \n",
    "- port_connexion_acceptance : parse connexion acceptance log lines \n",
    "- port_mapping : parse port mapping log lines \n",
    "- message_sending : parse log lines where messages are sent\n",
    "- message_enqueuing : parse message enqueuing log lines \n",
    "- message_reception : parse message reception log lines \n",
    "- message_extraction : parse message extraction log lines "
   ]
  },
  {
   "cell_type": "code",
   "execution_count": 5,
   "metadata": {},
   "outputs": [],
   "source": [
    "@with_pattern(r\"\\d\\d\\d\\d/\\d\\d/\\d\\d \\d\\d:\\d\\d:\\d\\d.\\d\\d\\d\\d\\d\\d\")\n",
    "def date_format(date_time_str):\n",
    "    return dt.datetime.strptime(date_time_str, '%Y/%b/%d %H:%M:%S.%f')\n",
    "\n",
    "port_opening = compile(\"{date:27} {user_name} {eventtype} {unknown_part} Port {portname} was started.\")\n",
    "port_stopping = compile(\"{date:27} {user_name} {eventtype} {unknown_part} Port {portname} was stopped.\")\n",
    "port_connexion_waiting = compile(\"{date:27} {message_receiver} {eventtype} {unknown_part} Port {message_receiver_portname} is waiting for connection from {message_sender_portname} on {communication_type} pathname {pathname}.\")\n",
    "port_connexion_establishment = compile(\"{date:27} {message_sender} {eventtype} {unknown_part} Port {message_sender_portname} has established the connection with {message_receiver_portname} using transport type {communication_type}.\")\n",
    "port_connexion_acceptance = compile(\"{date:27} {message_receiver} {eventtype} {unknown_part} Port {message_receiver_portname} has accepted the connection from {message_sender_portname}.\")\n",
    "port_mapping = compile(\"{date:27} {message_sender} {eventtype} {unknown_part} Port {message_sender_portname} was mapped to {message_receiver_portname}.\")\n",
    "message_sending = compile(\"{date:27} {message_sender} {eventtype} {unknown_part} Sent on {message_sender_portname} to {message_receiver} {message_type} : {message_content:0}\")\n",
    "message_enqueuing = compile(\"{date:27} {message_receiver} {eventtype} {unknown_part} Message enqueued on {message_receiver_portname} from {message_sender} {message_type} : {message_content:0} id {message_id_number}\")\n",
    "message_reception = compile(\"{date:27} {message_receiver} {eventtype} {unknown_part} Receive operation on port {message_receiver_portname} succeeded, message from {message_sender}: {message_type} : {message_content:0} id {message_id_number}\")\n",
    "message_extraction = compile(\"{date:27} {message_receiver} {eventtype} {unknown_part} Message with id {message_id_number} was extracted from the queue of {message_receiver_portname}.\")\n"
   ]
  },
  {
   "attachments": {},
   "cell_type": "markdown",
   "metadata": {},
   "source": [
    "## create_log_sending_message_dataframe\n",
    "- description: function creates a pandas Dataframe containing the **date**, the message **sender** and **receiver**, the **eventtype** (which is always PORTEVENT), the **message sender port name**, the **message type** and the **content of the message** using a pyhton list of logs where messages are sent (provided by the **sending_message_filter** fonction) \n",
    "- input: list of string\n",
    "- output: Dataframe "
   ]
  },
  {
   "cell_type": "code",
   "execution_count": 6,
   "metadata": {},
   "outputs": [],
   "source": [
    "def create_log_sending_message_dataframe(sending_log_list):\n",
    "    parsed_sending_log_dico = {'date': [], 'message_sender': [], 'eventtype': [], 'unknown_part': [], 'message_sender_portname': [], \n",
    "                            'message_receiver': [], 'message_type': [], 'message_content': []}\n",
    "    for sending_log in sending_log_list:\n",
    "        parsed_log = message_sending.parse(sending_log).named\n",
    "        for k in parsed_log.keys():\n",
    "            parsed_sending_log_dico[k].append(parsed_log[k])\n",
    "    df = pd.DataFrame(parsed_sending_log_dico)\n",
    "    return df\n",
    "\n",
    "df = create_log_sending_message_dataframe(sending_log_list)"
   ]
  },
  {
   "attachments": {},
   "cell_type": "markdown",
   "metadata": {},
   "source": [
    "## log_format_to_json\n",
    "- description: transform a message content extracted from the logs and format them to be a json string format so they can be turn directly into python dictionary \n",
    "- input: string\n",
    "- output: string"
   ]
  },
  {
   "cell_type": "code",
   "execution_count": 7,
   "metadata": {},
   "outputs": [],
   "source": [
    "def log_format_to_json(string):\n",
    "    lines = string.split('\\n')\n",
    "    edited_message = ''\n",
    "    for line in lines:\n",
    "        decompose_line = line.split(' ')\n",
    "        edited_line = ''\n",
    "        for i in range(len(decompose_line)):\n",
    "            if decompose_line[i] != '':\n",
    "                if decompose_line[i] == ':=':\n",
    "                    decompose_line[i-1] = '\"' + decompose_line[i-1] + '\"'\n",
    "                    if decompose_line[i+1] != '{':\n",
    "                        if '\"' == decompose_line[i+1][0]:\n",
    "                            break\n",
    "                        else:\n",
    "                            if i + 1 == len(decompose_line) - 1:\n",
    "                                if ',' == decompose_line[i+1][-1]:\n",
    "                                    decompose_line[i+1] = '\"' + decompose_line[i+1].replace(',','') + '\",'\n",
    "                                else:\n",
    "                                    decompose_line[i+1] = '\"' + decompose_line[i+1] + '\"'\n",
    "                            else:\n",
    "                                if ',' == decompose_line[-1][-1]:\n",
    "                                    decompose_line[i+1] = '\"' + decompose_line[i+1]\n",
    "                                    decompose_line[-1] =  decompose_line[-1].replace(',','') + '\",'\n",
    "                                    break\n",
    "                                else:\n",
    "                                    decompose_line[i+1] = '\"' + decompose_line[i+1]\n",
    "                                    decompose_line[-1] =  decompose_line[-1] + '\"'\n",
    "                                    break\n",
    "        for e in decompose_line:\n",
    "            if e == '':\n",
    "                edited_line += ' '\n",
    "            if e == ':=':\n",
    "                edited_line += ' ' + e + ' '\n",
    "            else:\n",
    "                edited_line += e\n",
    "        edited_message += edited_line + '\\n'    \n",
    "    edited_message = edited_message.split(' ')\n",
    "    open = 0\n",
    "    ind = []\n",
    "    for i in range(len(edited_message)):\n",
    "        if '{' in edited_message[i]:\n",
    "            if edited_message[i].count('}') > 1:\n",
    "                for y in range(edited_message[i].count('}')):\n",
    "                    open += 1\n",
    "            else:\n",
    "                open += 1\n",
    "                f = list(filter(('').__ne__, edited_message[i:]))\n",
    "                if len(f) > 0:\n",
    "                    if '{' in f[1]:\n",
    "                        edited_message[i] = edited_message[i].replace('{', '[',-1)\n",
    "                        ind.append(open)\n",
    "                    if '\"' == f[1][0] and f[2] != ':=':\n",
    "                        edited_message[i] = edited_message[i].replace('{', '[',-1)\n",
    "                        ind.append(open)\n",
    "        if '}' in edited_message[i]:\n",
    "            if edited_message[i].count('}') > 1:\n",
    "                for y in range(edited_message[i].count('}')):\n",
    "                    if len(ind) != 0 and open == ind[-1]:\n",
    "                        s = \"\"\n",
    "                        dico_i_split = edited_message[i].split('}')\n",
    "                        for l in range(len(dico_i_split) - 1):\n",
    "                            if l == y:\n",
    "                                s += dico_i_split[l] + ']'\n",
    "                            else:\n",
    "                                s += dico_i_split[l] + '}'\n",
    "                        s += dico_i_split[-1]\n",
    "                        edited_message[i] = s\n",
    "                        ind.pop(-1)\n",
    "                    open -= 1\n",
    "            else:\n",
    "                if len(ind) != 0 and open == ind[-1]:\n",
    "                    edited_message[i] = edited_message[i].replace('}',']',1)\n",
    "                    ind.pop(-1)\n",
    "                open -= 1\n",
    "\n",
    "    for i in range(len(edited_message)):\n",
    "        if edited_message[i] == '':\n",
    "            edited_message[i] = ' '\n",
    "\n",
    "    json_string = \"\"\n",
    "    for i in range(len(edited_message)):\n",
    "        json_string += edited_message[i]\n",
    "    json_string = json_string.replace('=', '')\n",
    "    \n",
    "    return json_string"
   ]
  },
  {
   "attachments": {},
   "cell_type": "markdown",
   "metadata": {},
   "source": [
    "## json_string_to_dict\n",
    "- description: transform a json string into a json dictionary\n",
    "- input: string\n",
    "- output: dictionary"
   ]
  },
  {
   "cell_type": "code",
   "execution_count": 8,
   "metadata": {},
   "outputs": [],
   "source": [
    "def json_string_to_dict(string):\n",
    "    dict_json = json.loads(string)\n",
    "    return dict_json"
   ]
  },
  {
   "attachments": {},
   "cell_type": "markdown",
   "metadata": {},
   "source": [
    "## message_to_dict\n",
    "- description: transform the message content string extracted from the logs into python dictionary to exploit the data in an easier way\n",
    "- input: string\n",
    "- output: dictionary"
   ]
  },
  {
   "cell_type": "code",
   "execution_count": 9,
   "metadata": {},
   "outputs": [],
   "source": [
    "def message_to_dict(message):\n",
    "    return json_string_to_dict(log_format_to_json(message))"
   ]
  },
  {
   "attachments": {},
   "cell_type": "markdown",
   "metadata": {},
   "source": [
    "## parse_messages\n",
    "- description: create a list of python dictionaries from a list of message contents exctracted from the logs \n",
    "- input: list of string\n",
    "- output: list of dictionaries (parsed_message_list), list of string (failed_message_to_dict : the list of failed message that could not be turn into dictionaries (there are only few))"
   ]
  },
  {
   "cell_type": "code",
   "execution_count": 10,
   "metadata": {},
   "outputs": [
    {
     "name": "stdout",
     "output_type": "stream",
     "text": [
      "265\n",
      "20\n"
     ]
    }
   ],
   "source": [
    "def parse_messages(message_list):\n",
    "    parsed_message_list = []\n",
    "    failed_message_to_dict = []\n",
    "    for i,m in enumerate(message_list):\n",
    "        try:\n",
    "            parsed_message_list.append(message_to_dict(m))\n",
    "        except:\n",
    "            failed_message_to_dict.append(log_format_to_json(m))\n",
    "    return parsed_message_list, failed_message_to_dict\n",
    "\n",
    "parsed_message_list, failed_message_to_dict = parse_messages(df.message_content)"
   ]
  }
 ],
 "metadata": {
  "kernelspec": {
   "display_name": "Python 3",
   "language": "python",
   "name": "python3"
  },
  "language_info": {
   "codemirror_mode": {
    "name": "ipython",
    "version": 3
   },
   "file_extension": ".py",
   "mimetype": "text/x-python",
   "name": "python",
   "nbconvert_exporter": "python",
   "pygments_lexer": "ipython3",
   "version": "3.11.3"
  },
  "orig_nbformat": 4
 },
 "nbformat": 4,
 "nbformat_minor": 2
}
